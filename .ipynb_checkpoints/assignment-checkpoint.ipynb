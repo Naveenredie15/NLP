{
 "cells": [
  {
   "cell_type": "code",
   "execution_count": 2,
   "id": "b54d4b1d",
   "metadata": {},
   "outputs": [],
   "source": [
    "import pandas\n",
    "import requests\n",
    "from bs4 import BeautifulSoup"
   ]
  },
  {
   "cell_type": "code",
   "execution_count": 3,
   "id": "f3980968",
   "metadata": {},
   "outputs": [],
   "source": [
    "url='https://insights.blackcoffer.com/what-if-the-creation-is-taking-over-the-creator/'"
   ]
  },
  {
   "cell_type": "code",
   "execution_count": 4,
   "id": "28424500",
   "metadata": {},
   "outputs": [],
   "source": [
    "page=requests.get(url)"
   ]
  },
  {
   "cell_type": "code",
   "execution_count": 5,
   "id": "f1e3b927",
   "metadata": {},
   "outputs": [],
   "source": [
    "soup=BeautifulSoup(page.content,'html.parser')"
   ]
  },
  {
   "cell_type": "code",
   "execution_count": 6,
   "id": "e516609c",
   "metadata": {},
   "outputs": [],
   "source": [
    "content=soup.findAll(attrs={'class':'tdb-block-inner td-fix-index'})"
   ]
  },
  {
   "cell_type": "code",
   "execution_count": 7,
   "id": "0136de0b",
   "metadata": {},
   "outputs": [],
   "source": [
    "if soup.h1 is not None:    \n",
    "    heading=soup.h1.text"
   ]
  },
  {
   "cell_type": "code",
   "execution_count": 8,
   "id": "aaced9af",
   "metadata": {},
   "outputs": [
    {
     "name": "stdout",
     "output_type": "stream",
     "text": [
      "Human minds, a fascination in itself carrying the potential of tinkering nature with the pixie dust intelligence, creating and solving the mysteries and wonders with anything but admiration. However, no matter how captivating a human mind can be, it could sometimes be appalled. It could be the hunger or maybe the desire to want more, to go beyond and unravel the limitations, or maybe something like pure greed. Humans have never stopped and always keep evolving when it comes to intelligence and this is what makes them the supreme.\n",
      "Intelligence calls out for supremacy and so, what if there was to evolve something that opposed a challenge to the very human minds, to their capabilities while making them question their own importance among themselves? Artificial Intelligence came as a revolution, havoc when it first came to the light. The concept of making machines does work on their own, like granting machines –The Intelligence.\n",
      "The idea of making machines work like humans came back in the 19s. Back then people didn’t believe in such a thing as making a non-living thing work, think, and carry tasks on its own, not to mention, to actually surpass humans themselves in those skills. The facts are it did. By 1997. The greatest chess player, Garry Kasparov was defeated in a chess game by a machine and this is where exactly, a top skilled human lost to a mere machine created by another who by himself could’ve never defeated him. It was a rule of power, of betterment, of skills, and the granted supremacy. Were AI and Machines just tools? Equipment?  Something that helped an unskilled person with his mind and intelligence creates something that could do the skilled work for him with perfection and precision? Well initially it was, however, as time passed as humans got drawn to the puzzle of AI, a lot changed. Human research went deeper and deeper and as a result, the machines evolved with it.\n",
      "At present, AI & Machines is a growing field. As it develops and improves, it has become a part of the industrial revolution. In industries, most of the laborious work that was once taken care of by humans was now replaced by machines. Naturally, with the evolution in machines, its precision, mass productivity, quality control, time efficiencies, and all the other factors made it a better choice. A choice over humans.\n",
      "This led to fear, a fear of a not-so-distant future, a future where maybe machines will be so evolved that they’ll take over the need of a human employee leading to unemployment. With the population increase around the world, it became the new tech threat for the labor market. Then again… how true is it? Does AI really oppose a threat? Will adapting to technology make millions of people lose their jobs? Will it lead to mass unemployment? Will the machines really surpass humans? Will, the creation take over the creator?\n",
      "No matter how fearful the future with AI may seem, in reality, it is not that scary. Truth is AI is the present reality, it is the key that holds the power to unlock a whole next level of human evolution. Technology is growing. There was a time where technology was just an idea, but today that idea has been implemented, it’s working and is carried out. Nobody could stop the advancement and growth of Artificial Intelligence, it’s a wave that is already flowing and we as the present generation and the generations to come to have to learn, to learn to swim in this flow and avoid drowning.\n",
      "Many jobs will be replaced by machines, as AI evolves it’ll keep challenging human minds and their skills. With the present COVID 19 situation, contactless cashiers to robots delivering packages have already taken over the usual routine tasks. The jobs of Secretaries, Schedulers, and book-keeper are at risk too. Manufacturing units, agriculture, food services, retail, transportation & logistic, and hospitality are all a part of the AI-affected automation. At an estimation, it is said that around 20 million jobs, especially including manufacturing will be lost to robots. As AI, robotics, 3D printing, and genetics make their way in, even the architects, medical docs, and music composers feel threatened by technology. Making us question that will AI even edge us out of our brain jobs too? Now that can be terrifying.\n",
      "However, as much as machines will be replacing few jobs, they’ll also be creating new jobs.  With the economic growth, innovation, and investment around 133 million jobs are said to be generated. These newly enhanced jobs are to create benefits and amplify one’s creativity, strategy, and entrepreneurial skills. So what is the catch?\n",
      "Well, it’s the skills. Even though AI is creating 3 times more jobs than it is destroying, it’s the skills that count. AI surged in new job opportunities, opportunities like Senior Data Scientist, Mobile Application Developer, and SEO specialist. These jobs were once never heard of but now with AI it’s born, however, to do these jobs or for its qualification, one needs high-level skills and to acquire those skills can be an expensive and time-consuming task. The future generation might be able to cope up with it but the real struggle is to be faced by the present two generations. It’s the vulnerability between the skill gap and unemployment and the youths are the ones to be crushed the most.\n",
      "Therefore, as the advancement of AI becomes inevitable there remains no choice but to adapt, learn, equip ourselves and grow with it. The companies have to work together to build an AI-ready workplace. They should collaborate with the government, educators, and non-profit organizations and work together to bring out policies that could help understand the technologies’ impacts faster while also providing the employees some security. The economic and business planning should be made considerable for minimizing the impact on local jobs and properly maximizing the opportunities.\n",
      "The employees should be provided with proper tools to carry along with the new opportunities while acquiring AI-based skills for their day-to-day work. New skills should be identified and implemented for the upskilling and continual learning initiatives. Employees will have to maximize their Robotic Quotient and learn core skills. They’ll have to adapt to new working models and understand their roles in the coming future. \n",
      "Howsoever, it’s not like AI will totally take over control, even though AI proves to be a better choice, it still has its limitations at present. First, it’s expensive, secondly, manufacturing machines in bulk is not good for the environment. Machines are also very high maintenance, therefore human labor will often come cheaper and so will be considered over machines. Underdeveloped countries will find it hard to equip their people with the upskilling and reskilling required for AI workplace and so for AI to play a role in those countries, might take years. AI can also be risky and unethical, as it’s hard to figure out who to be held responsible for in cases where an AI went wrong.\n",
      "No matter, how advanced AI gets, there are some skills where humans will always have an upper hand i.e., soft skills. Skills like teamwork, communication, creativity, and critical thinking are something that AI hasn’t been able to beat us up to yet and so the value of creativity, leadership, and emotional intelligence has increased. Although, with machines coming in between humans causing the lack of human-to-human interaction, the humans seem to fade away a little.\n",
      "With this era, comes the need for good leaders. Leaders who are capable of handling both machines and humans together, the ones who are organized enough to manage the skilled and the unskilled employees while providing the unskilled trainees with proper training. Leaders who hold profound soft skills and encourage teamwork while working along with machines. The ones who are patient, calm, and optimized.  \n",
      "In conclusion, yes AI and machines are going to be very challenging but there’s nothing humans haven’t overcome. Adaptation and up-gradation are going to be the primary factor for survival. As we witness the onset of the 4th industrial revolution, let’s buckle up our seats and race along the highway with the essential fuels (skills) so as to not let ourselves eliminated. After all, this is an unending race with infinity as the end, all we could do is try not to run out of fuel. Try not to be outdated. \n",
      "\n",
      "We provide intelligence, accelerate innovation and implement technology with extraordinary breadth and depth global insights into the big data,data-driven dashboards, applications development, and information management for organizations through combining unique, specialist services and high-lvel human expertise.\n",
      "Contact us: hello@blackcoffer.com\n",
      "© All Right Reserved, Blackcoffer(OPC) Pvt. Ltd\n"
     ]
    }
   ],
   "source": [
    "r=soup.find_all('p')[16:]\n",
    "for i in r:\n",
    "    print(i.text)\n",
    "    "
   ]
  },
  {
   "cell_type": "code",
   "execution_count": 9,
   "id": "30501f51",
   "metadata": {},
   "outputs": [],
   "source": [
    "paragraphs=[]\n",
    "list_of_words=[]\n",
    "number_of_words=0\n",
    "no_of_char=0\n",
    "paragraphs.append(heading)\n",
    "results=soup.find_all('p')[16:]\n",
    "for para in results:\n",
    "    paragraphs.append(para.text.replace('.', '').replace(',', '').replace('!', '').replace('?', ''))\n",
    "    number_of_words+=len(para.text.split())\n",
    "    no_of_char+=len(str(para))-len(para.text.split())+1\n",
    "    for word in para.text.split():\n",
    "        list_of_words.append(word)"
   ]
  },
  {
   "cell_type": "code",
   "execution_count": 10,
   "id": "1329bf13",
   "metadata": {},
   "outputs": [
    {
     "data": {
      "text/plain": [
       "89"
      ]
     },
     "execution_count": 10,
     "metadata": {},
     "output_type": "execute_result"
    }
   ],
   "source": [
    "x=['Human', 'minds,', 'a', 'fascination', 'in', 'itself', 'carrying', 'the', 'potential', 'of', 'tinkering', 'nature', 'with', 'the', 'pixie', 'dust', 'intelligence,', 'creating', 'and', 'solving', 'the', 'mysteries', 'and', 'wonders', 'with', 'anything', 'but', 'admiration.', 'However,', 'no', 'matter', 'how', 'captivating', 'a', 'human', 'mind', 'can', 'be,', 'it', 'could', 'sometimes', 'be', 'appalled.', 'It', 'could', 'be', 'the', 'hunger', 'or', 'maybe', 'the', 'desire', 'to', 'want', 'more,', 'to', 'go', 'beyond', 'and', 'unravel', 'the', 'limitations,', 'or', 'maybe', 'something', 'like', 'pure', 'greed.', 'Humans', 'have', 'never', 'stopped', 'and', 'always', 'keep', 'evolving', 'when', 'it', 'comes', 'to', 'intelligence', 'and', 'this', 'is', 'what', 'makes', 'them', 'the', 'supreme.']\n",
    "len(x)"
   ]
  },
  {
   "cell_type": "code",
   "execution_count": 11,
   "id": "515f9bc8",
   "metadata": {},
   "outputs": [
    {
     "name": "stdout",
     "output_type": "stream",
     "text": [
      "['What if the Creation is Taking Over the Creator?', 'Human minds a fascination in itself carrying the potential of tinkering nature with the pixie dust intelligence creating and solving the mysteries and wonders with anything but admiration However no matter how captivating a human mind can be it could sometimes be appalled It could be the hunger or maybe the desire to want more to go beyond and unravel the limitations or maybe something like pure greed Humans have never stopped and always keep evolving when it comes to intelligence and this is what makes them the supreme', 'Intelligence calls out for supremacy and so what if there was to evolve something that opposed a challenge to the very human minds to their capabilities while making them question their own importance among themselves Artificial Intelligence came as a revolution havoc when it first came to the light The concept of making machines does work on their own like granting machines –The Intelligence', 'The idea of making machines work like humans came back in the 19s Back then people didn’t believe in such a thing as making a non-living thing work think and carry tasks on its own not to mention to actually surpass humans themselves in those skills The facts are it did By 1997 The greatest chess player Garry Kasparov was defeated in a chess game by a machine and this is where exactly a top skilled human lost to a mere machine created by another who by himself could’ve never defeated him It was a rule of power of betterment of skills and the granted supremacy Were AI and Machines just tools Equipment\\xa0 Something that helped an unskilled person with his mind and intelligence creates something that could do the skilled work for him with perfection and precision Well initially it was however as time passed as humans got drawn to the puzzle of AI a lot changed Human research went deeper and deeper and as a result the machines evolved with it', 'At present AI & Machines is a growing field As it develops and improves it has become a part of the industrial revolution In industries most of the laborious work that was once taken care of by humans was now replaced by machines Naturally with the evolution in machines its precision mass productivity quality control time efficiencies and all the other factors made it a better choice A choice over humans', 'This led to fear a fear of a not-so-distant future a future where maybe machines will be so evolved that they’ll take over the need of a human employee leading to unemployment With the population increase around the world it became the new tech threat for the labor market Then again… how true is it Does AI really oppose a threat Will adapting to technology make millions of people lose their jobs Will it lead to mass unemployment Will the machines really surpass humans Will the creation take over the creator', 'No matter how fearful the future with AI may seem in reality it is not that scary Truth is AI is the present reality it is the key that holds the power to unlock a whole next level of human evolution Technology is growing There was a time where technology was just an idea but today that idea has been implemented it’s working and is carried out Nobody could stop the advancement and growth of Artificial Intelligence it’s a wave that is already flowing and we as the present generation and the generations to come to have to learn to learn to swim in this flow and avoid drowning', 'Many jobs will be replaced by machines as AI evolves it’ll keep challenging human minds and their skills With the present COVID 19 situation contactless cashiers to robots delivering packages have already taken over the usual routine tasks The jobs of Secretaries Schedulers and book-keeper are at risk too Manufacturing units agriculture food services retail transportation & logistic and hospitality are all a part of the AI-affected automation At an estimation it is said that around 20 million jobs especially including manufacturing will be lost to robots As AI robotics 3D printing and genetics make their way in even the architects medical docs and music composers feel threatened by technology Making us question that will AI even edge us out of our brain jobs too Now that can be terrifying', 'However as much as machines will be replacing few jobs they’ll also be creating new jobs\\xa0 With the economic growth innovation and investment around 133 million jobs are said to be generated These newly enhanced jobs are to create benefits and amplify one’s creativity strategy and entrepreneurial skills So what is the catch', 'Well it’s the skills Even though AI is creating 3 times more jobs than it is destroying it’s the skills that count AI surged in new job opportunities opportunities like Senior Data Scientist Mobile Application Developer and SEO specialist These jobs were once never heard of but now with AI it’s born however to do these jobs or for its qualification one needs high-level skills and to acquire those skills can be an expensive and time-consuming task The future generation might be able to cope up with it but the real struggle is to be faced by the present two generations It’s the vulnerability between the skill gap and unemployment and the youths are the ones to be crushed the most', 'Therefore as the advancement of AI becomes inevitable there remains no choice but to adapt learn equip ourselves and grow with it The companies have to work together to build an AI-ready workplace They should collaborate with the government educators and non-profit organizations and work together to bring out policies that could help understand the technologies’ impacts faster while also providing the employees some security The economic and business planning should be made considerable for minimizing the impact on local jobs and properly maximizing the opportunities', 'The employees should be provided with proper tools to carry along with the new opportunities while acquiring AI-based skills for their day-to-day work New skills should be identified and implemented for the upskilling and continual learning initiatives Employees will have to maximize their Robotic Quotient and learn core skills They’ll have to adapt to new working models and understand their roles in the coming future\\xa0', 'Howsoever it’s not like AI will totally take over control even though AI proves to be a better choice it still has its limitations at present First it’s expensive secondly manufacturing machines in bulk is not good for the environment Machines are also very high maintenance therefore human labor will often come cheaper and so will be considered over machines Underdeveloped countries will find it hard to equip their people with the upskilling and reskilling required for AI workplace and so for AI to play a role in those countries might take years AI can also be risky and unethical as it’s hard to figure out who to be held responsible for in cases where an AI went wrong', 'No matter how advanced AI gets there are some skills where humans will always have an upper hand ie soft skills Skills like teamwork communication creativity and critical thinking are something that AI hasn’t been able to beat us up to yet and so the value of creativity leadership and emotional intelligence has increased Although with machines coming in between humans causing the lack of human-to-human interaction the humans seem to fade away a little', 'With this era comes the need for good leaders Leaders who are capable of handling both machines and humans together the ones who are organized enough to manage the skilled and the unskilled employees while providing the unskilled trainees with proper training Leaders who hold profound soft skills and encourage teamwork while working along with machines The ones who are patient calm and optimized \\xa0', 'In conclusion yes AI and machines are going to be very challenging but there’s nothing humans haven’t overcome Adaptation and up-gradation are going to be the primary factor for survival As we witness the onset of the 4th industrial revolution let’s buckle up our seats and race along the highway with the essential fuels (skills) so as to not let ourselves eliminated After all this is an unending race with infinity as the end all we could do is try not to run out of fuel Try not to be outdated\\xa0', '', 'We provide intelligence accelerate innovation and implement technology with extraordinary breadth and depth global insights into the big datadata-driven dashboards applications development and information management for organizations through combining unique specialist services and high-lvel human expertise', 'Contact us: hello@blackcoffercom', '© All Right Reserved Blackcoffer(OPC) Pvt Ltd']\n"
     ]
    }
   ],
   "source": [
    "print(paragraphs)"
   ]
  },
  {
   "cell_type": "code",
   "execution_count": 15,
   "id": "acbadfe0",
   "metadata": {},
   "outputs": [],
   "source": [
    "import os\n",
    "folder_path = \"./stop_words\" \n",
    "stop_words=[]\n",
    "for filename in os.listdir(folder_path):\n",
    "    file_path = os.path.join(folder_path, filename)\n",
    "\n",
    "    if os.path.isfile(file_path):\n",
    "        with open(file_path, 'r') as file:\n",
    "            words_to_remove = file.read().splitlines()\n",
    "            for i in words_to_remove:\n",
    "                x=i.split('|')\n",
    "                for j in x:\n",
    "                    stop_words.append(j.strip())"
   ]
  },
  {
   "cell_type": "code",
   "execution_count": 16,
   "id": "6b313b6a",
   "metadata": {},
   "outputs": [
    {
     "name": "stdout",
     "output_type": "stream",
     "text": [
      "2006\n"
     ]
    }
   ],
   "source": [
    "with open(\"./master_dictionary/positive-words.txt\",'r') as file:\n",
    "    positive_words=file.read().splitlines()\n",
    "print(len(positive_words))"
   ]
  },
  {
   "cell_type": "code",
   "execution_count": 207,
   "id": "320bbc8e",
   "metadata": {},
   "outputs": [
    {
     "name": "stdout",
     "output_type": "stream",
     "text": [
      "4783\n"
     ]
    }
   ],
   "source": [
    "with op/master_dictionary/negative-words.txt\",'r') as file:\n",
    "    negative_words=file.read().splitlines()\n",
    "print(len(negative_words))"
   ]
  },
  {
   "cell_type": "code",
   "execution_count": 208,
   "id": "3343e165",
   "metadata": {},
   "outputs": [
    {
     "name": "stderr",
     "output_type": "stream",
     "text": [
      "[nltk_data] Downloading package punkt to\n",
      "[nltk_data]     C:\\Users\\navee\\AppData\\Roaming\\nltk_data...\n",
      "[nltk_data]   Package punkt is already up-to-date!\n"
     ]
    },
    {
     "data": {
      "text/plain": [
       "True"
      ]
     },
     "execution_count": 208,
     "metadata": {},
     "output_type": "execute_result"
    }
   ],
   "source": [
    "import nltk\n",
    "\n",
    "nltk.download('punkt')"
   ]
  },
  {
   "cell_type": "code",
   "execution_count": 250,
   "id": "38dadb40",
   "metadata": {},
   "outputs": [
    {
     "data": {
      "text/plain": [
       "['What if the Creation is Taking Over the Creator?',\n",
       " 'Human minds a fascination in itself carrying the potential of tinkering nature with the pixie dust intelligence creating and solving the mysteries and wonders with anything but admiration However no matter how captivating a human mind can be it could sometimes be appalled It could be the hunger or maybe the desire to want more to go beyond and unravel the limitations or maybe something like pure greed Humans have never stopped and always keep evolving when it comes to intelligence and this is what makes them the supreme',\n",
       " 'Intelligence calls out for supremacy and so what if there was to evolve something that opposed a challenge to the very human minds to their capabilities while making them question their own importance among themselves Artificial Intelligence came as a revolution havoc when it first came to the light The concept of making machines does work on their own like granting machines –The Intelligence',\n",
       " 'The idea of making machines work like humans came back in the 19s Back then people didn’t believe in such a thing as making a non-living thing work think and carry tasks on its own not to mention to actually surpass humans themselves in those skills The facts are it did By 1997 The greatest chess player Garry Kasparov was defeated in a chess game by a machine and this is where exactly a top skilled human lost to a mere machine created by another who by himself could’ve never defeated him It was a rule of power of betterment of skills and the granted supremacy Were AI and Machines just tools Equipment\\xa0 Something that helped an unskilled person with his mind and intelligence creates something that could do the skilled work for him with perfection and precision Well initially it was however as time passed as humans got drawn to the puzzle of AI a lot changed Human research went deeper and deeper and as a result the machines evolved with it',\n",
       " 'At present AI & Machines is a growing field As it develops and improves it has become a part of the industrial revolution In industries most of the laborious work that was once taken care of by humans was now replaced by machines Naturally with the evolution in machines its precision mass productivity quality control time efficiencies and all the other factors made it a better choice A choice over humans',\n",
       " 'This led to fear a fear of a not-so-distant future a future where maybe machines will be so evolved that they’ll take over the need of a human employee leading to unemployment With the population increase around the world it became the new tech threat for the labor market Then again… how true is it Does AI really oppose a threat Will adapting to technology make millions of people lose their jobs Will it lead to mass unemployment Will the machines really surpass humans Will the creation take over the creator',\n",
       " 'No matter how fearful the future with AI may seem in reality it is not that scary Truth is AI is the present reality it is the key that holds the power to unlock a whole next level of human evolution Technology is growing There was a time where technology was just an idea but today that idea has been implemented it’s working and is carried out Nobody could stop the advancement and growth of Artificial Intelligence it’s a wave that is already flowing and we as the present generation and the generations to come to have to learn to learn to swim in this flow and avoid drowning',\n",
       " 'Many jobs will be replaced by machines as AI evolves it’ll keep challenging human minds and their skills With the present COVID 19 situation contactless cashiers to robots delivering packages have already taken over the usual routine tasks The jobs of Secretaries Schedulers and book-keeper are at risk too Manufacturing units agriculture food services retail transportation & logistic and hospitality are all a part of the AI-affected automation At an estimation it is said that around 20 million jobs especially including manufacturing will be lost to robots As AI robotics 3D printing and genetics make their way in even the architects medical docs and music composers feel threatened by technology Making us question that will AI even edge us out of our brain jobs too Now that can be terrifying',\n",
       " 'However as much as machines will be replacing few jobs they’ll also be creating new jobs\\xa0 With the economic growth innovation and investment around 133 million jobs are said to be generated These newly enhanced jobs are to create benefits and amplify one’s creativity strategy and entrepreneurial skills So what is the catch',\n",
       " 'Well it’s the skills Even though AI is creating 3 times more jobs than it is destroying it’s the skills that count AI surged in new job opportunities opportunities like Senior Data Scientist Mobile Application Developer and SEO specialist These jobs were once never heard of but now with AI it’s born however to do these jobs or for its qualification one needs high-level skills and to acquire those skills can be an expensive and time-consuming task The future generation might be able to cope up with it but the real struggle is to be faced by the present two generations It’s the vulnerability between the skill gap and unemployment and the youths are the ones to be crushed the most',\n",
       " 'Therefore as the advancement of AI becomes inevitable there remains no choice but to adapt learn equip ourselves and grow with it The companies have to work together to build an AI-ready workplace They should collaborate with the government educators and non-profit organizations and work together to bring out policies that could help understand the technologies’ impacts faster while also providing the employees some security The economic and business planning should be made considerable for minimizing the impact on local jobs and properly maximizing the opportunities',\n",
       " 'The employees should be provided with proper tools to carry along with the new opportunities while acquiring AI-based skills for their day-to-day work New skills should be identified and implemented for the upskilling and continual learning initiatives Employees will have to maximize their Robotic Quotient and learn core skills They’ll have to adapt to new working models and understand their roles in the coming future\\xa0',\n",
       " 'Howsoever it’s not like AI will totally take over control even though AI proves to be a better choice it still has its limitations at present First it’s expensive secondly manufacturing machines in bulk is not good for the environment Machines are also very high maintenance therefore human labor will often come cheaper and so will be considered over machines Underdeveloped countries will find it hard to equip their people with the upskilling and reskilling required for AI workplace and so for AI to play a role in those countries might take years AI can also be risky and unethical as it’s hard to figure out who to be held responsible for in cases where an AI went wrong',\n",
       " 'No matter how advanced AI gets there are some skills where humans will always have an upper hand ie soft skills Skills like teamwork communication creativity and critical thinking are something that AI hasn’t been able to beat us up to yet and so the value of creativity leadership and emotional intelligence has increased Although with machines coming in between humans causing the lack of human-to-human interaction the humans seem to fade away a little',\n",
       " 'With this era comes the need for good leaders Leaders who are capable of handling both machines and humans together the ones who are organized enough to manage the skilled and the unskilled employees while providing the unskilled trainees with proper training Leaders who hold profound soft skills and encourage teamwork while working along with machines The ones who are patient calm and optimized \\xa0',\n",
       " 'In conclusion yes AI and machines are going to be very challenging but there’s nothing humans haven’t overcome Adaptation and up-gradation are going to be the primary factor for survival As we witness the onset of the 4th industrial revolution let’s buckle up our seats and race along the highway with the essential fuels (skills) so as to not let ourselves eliminated After all this is an unending race with infinity as the end all we could do is try not to run out of fuel Try not to be outdated\\xa0',\n",
       " '',\n",
       " 'We provide intelligence accelerate innovation and implement technology with extraordinary breadth and depth global insights into the big datadata-driven dashboards applications development and information management for organizations through combining unique specialist services and high-lvel human expertise',\n",
       " 'Contact us: hello@blackcoffercom',\n",
       " '© All Right Reserved Blackcoffer(OPC) Pvt Ltd']"
      ]
     },
     "execution_count": 250,
     "metadata": {},
     "output_type": "execute_result"
    }
   ],
   "source": [
    "list_of_sentences=[]\n",
    "list_of_sentences.append(heading)\n",
    "\n",
    "for para in paragraphs:\n",
    "    x=para.split('.')\n",
    "    for i in x:\n",
    "        list_of_sentences.append(i)\n",
    "no_of_sentences=len(list_of_sentences)\n",
    "list_of_sentences"
   ]
  },
  {
   "cell_type": "code",
   "execution_count": 210,
   "id": "16b9e7ee",
   "metadata": {},
   "outputs": [
    {
     "data": {
      "text/plain": [
       "['Human minds fascination carrying potential tinkering nature pixie dust intelligence creating solving mysteries wonders admiration However matter captivating human mind appalled It hunger desire unravel limitations pure greed Humans stopped evolving intelligence makes supreme',\n",
       " 'Intelligence calls supremacy evolve opposed challenge human minds capabilities making question importance Artificial Intelligence revolution havoc light The concept making machines work granting machines –The Intelligence',\n",
       " 'The idea making machines work humans back 19s Back people didn’t thing making non-living thing work carry tasks mention surpass humans skills The facts By 1997 The greatest chess player Garry Kasparov defeated chess game machine top skilled human lost mere machine created could’ve defeated It rule power betterment skills granted supremacy Were Machines tools Equipment Something helped unskilled person mind intelligence creates skilled work perfection precision Well initially time passed humans drawn puzzle lot changed Human research deeper deeper result machines evolved',\n",
       " 'At present & Machines growing field As develops improves part industrial revolution In industries laborious work care humans replaced machines Naturally evolution machines precision mass productivity quality control time efficiencies factors made choice A choice humans',\n",
       " 'This led fear fear not-so-distant future future machines evolved they’ll human employee leading unemployment With population increase world tech threat labor market Then again… true Does oppose threat Will adapting technology make millions people lose jobs Will lead mass unemployment Will machines surpass humans Will creation creator',\n",
       " 'No matter fearful future reality scary Truth present reality key holds power unlock level human evolution Technology growing There time technology idea today idea implemented it’s working carried Nobody stop advancement growth Artificial Intelligence it’s wave flowing present generation generations learn learn swim flow avoid drowning',\n",
       " 'Many jobs replaced machines evolves it’ll challenging human minds skills With present COVID 19 situation contactless cashiers robots delivering packages usual routine tasks The jobs Secretaries Schedulers book-keeper risk Manufacturing units agriculture food services retail transportation & logistic hospitality part AI-affected automation At estimation 20 million jobs including manufacturing lost robots As robotics 3D printing genetics make architects medical docs music composers feel threatened technology Making question edge brain jobs Now terrifying',\n",
       " 'However machines replacing jobs they’ll creating jobs With economic growth innovation investment 133 million jobs generated These newly enhanced jobs create benefits amplify one’s creativity strategy entrepreneurial skills So catch',\n",
       " 'Well it’s skills Even creating 3 times jobs destroying it’s skills count surged job opportunities opportunities Senior Data Scientist Mobile Application Developer SEO specialist These jobs heard it’s born jobs qualification high-level skills acquire skills expensive time-consuming task The future generation cope real struggle faced present generations It’s vulnerability skill gap unemployment youths crushed',\n",
       " 'Therefore advancement inevitable remains choice adapt learn equip grow The companies work build AI-ready workplace They collaborate government educators non-profit organizations work bring policies understand technologies’ impacts faster providing employees security The economic business planning made considerable minimizing impact local jobs properly maximizing opportunities',\n",
       " 'The employees provided proper tools carry opportunities acquiring AI-based skills day-to-day work New skills identified implemented upskilling continual learning initiatives Employees maximize Robotic Quotient learn core skills They’ll adapt working models understand roles coming future',\n",
       " 'Howsoever it’s totally control proves choice limitations present First it’s expensive manufacturing machines bulk good environment Machines high maintenance human labor cheaper considered machines Underdeveloped countries find hard equip people upskilling reskilling required workplace play role countries years risky unethical it’s hard figure held responsible cases wrong',\n",
       " 'No matter advanced skills humans upper hand soft skills Skills teamwork communication creativity critical thinking hasn’t beat creativity leadership emotional intelligence increased Although machines coming humans causing lack human-to-human interaction humans fade',\n",
       " 'With era good leaders Leaders capable handling machines humans organized manage skilled unskilled employees providing unskilled trainees proper training Leaders hold profound soft skills encourage teamwork working machines The patient calm optimized',\n",
       " 'In conclusion machines challenging there’s humans haven’t overcome Adaptation up-gradation primary factor survival As witness onset 4th industrial revolution let’s buckle seats race highway essential fuels (skills) eliminated After unending race infinity end run fuel Try outdated',\n",
       " '',\n",
       " 'We provide intelligence accelerate innovation implement technology extraordinary breadth depth global insights big datadata-driven dashboards applications development information management organizations combining unique specialist services high-lvel human expertise',\n",
       " 'Contact us: hello@blackcoffercom',\n",
       " '© All Right Reserved Blackcoffer(OPC) Pvt Ltd']"
      ]
     },
     "execution_count": 210,
     "metadata": {},
     "output_type": "execute_result"
    }
   ],
   "source": [
    "modified_paragraphs = []\n",
    "for paragraph in paragraphs:\n",
    "    words= paragraph.split()\n",
    "    filtered_words = [word for word in words if word not in stop_words]\n",
    "    modified_paragraph = ' '.join(filtered_words)\n",
    "    modified_paragraphs.append(modified_paragraph)\n",
    "modified_paragraphs"
   ]
  },
  {
   "cell_type": "code",
   "execution_count": 211,
   "id": "7521a185",
   "metadata": {},
   "outputs": [
    {
     "data": {
      "text/plain": [
       "['Human',\n",
       " 'minds',\n",
       " 'fascination',\n",
       " 'carrying',\n",
       " 'potential',\n",
       " 'tinkering',\n",
       " 'nature',\n",
       " 'pixie',\n",
       " 'dust',\n",
       " 'intelligence',\n",
       " 'creating',\n",
       " 'solving',\n",
       " 'mysteries',\n",
       " 'wonders',\n",
       " 'admiration',\n",
       " 'However',\n",
       " 'matter',\n",
       " 'captivating',\n",
       " 'human',\n",
       " 'mind',\n",
       " 'appalled',\n",
       " 'It',\n",
       " 'hunger',\n",
       " 'desire',\n",
       " 'unravel',\n",
       " 'limitations',\n",
       " 'pure',\n",
       " 'greed',\n",
       " 'Humans',\n",
       " 'stopped',\n",
       " 'evolving',\n",
       " 'intelligence',\n",
       " 'makes',\n",
       " 'supreme',\n",
       " 'Intelligence',\n",
       " 'calls',\n",
       " 'supremacy',\n",
       " 'evolve',\n",
       " 'opposed',\n",
       " 'challenge',\n",
       " 'human',\n",
       " 'minds',\n",
       " 'capabilities',\n",
       " 'making',\n",
       " 'question',\n",
       " 'importance',\n",
       " 'Artificial',\n",
       " 'Intelligence',\n",
       " 'revolution',\n",
       " 'havoc',\n",
       " 'light',\n",
       " 'The',\n",
       " 'concept',\n",
       " 'making',\n",
       " 'machines',\n",
       " 'work',\n",
       " 'granting',\n",
       " 'machines',\n",
       " '–The',\n",
       " 'Intelligence',\n",
       " 'The',\n",
       " 'idea',\n",
       " 'making',\n",
       " 'machines',\n",
       " 'work',\n",
       " 'humans',\n",
       " 'back',\n",
       " '19s',\n",
       " 'Back',\n",
       " 'people',\n",
       " 'didn',\n",
       " '’',\n",
       " 't',\n",
       " 'thing',\n",
       " 'making',\n",
       " 'non-living',\n",
       " 'thing',\n",
       " 'work',\n",
       " 'carry',\n",
       " 'tasks',\n",
       " 'mention',\n",
       " 'surpass',\n",
       " 'humans',\n",
       " 'skills',\n",
       " 'The',\n",
       " 'facts',\n",
       " 'By',\n",
       " '1997',\n",
       " 'The',\n",
       " 'greatest',\n",
       " 'chess',\n",
       " 'player',\n",
       " 'Garry',\n",
       " 'Kasparov',\n",
       " 'defeated',\n",
       " 'chess',\n",
       " 'game',\n",
       " 'machine',\n",
       " 'top',\n",
       " 'skilled',\n",
       " 'human',\n",
       " 'lost',\n",
       " 'mere',\n",
       " 'machine',\n",
       " 'created',\n",
       " 'could',\n",
       " '’',\n",
       " 've',\n",
       " 'defeated',\n",
       " 'It',\n",
       " 'rule',\n",
       " 'power',\n",
       " 'betterment',\n",
       " 'skills',\n",
       " 'granted',\n",
       " 'supremacy',\n",
       " 'Were',\n",
       " 'Machines',\n",
       " 'tools',\n",
       " 'Equipment',\n",
       " 'Something',\n",
       " 'helped',\n",
       " 'unskilled',\n",
       " 'person',\n",
       " 'mind',\n",
       " 'intelligence',\n",
       " 'creates',\n",
       " 'skilled',\n",
       " 'work',\n",
       " 'perfection',\n",
       " 'precision',\n",
       " 'Well',\n",
       " 'initially',\n",
       " 'time',\n",
       " 'passed',\n",
       " 'humans',\n",
       " 'drawn',\n",
       " 'puzzle',\n",
       " 'lot',\n",
       " 'changed',\n",
       " 'Human',\n",
       " 'research',\n",
       " 'deeper',\n",
       " 'deeper',\n",
       " 'result',\n",
       " 'machines',\n",
       " 'evolved',\n",
       " 'At',\n",
       " 'present',\n",
       " '&',\n",
       " 'Machines',\n",
       " 'growing',\n",
       " 'field',\n",
       " 'As',\n",
       " 'develops',\n",
       " 'improves',\n",
       " 'part',\n",
       " 'industrial',\n",
       " 'revolution',\n",
       " 'In',\n",
       " 'industries',\n",
       " 'laborious',\n",
       " 'work',\n",
       " 'care',\n",
       " 'humans',\n",
       " 'replaced',\n",
       " 'machines',\n",
       " 'Naturally',\n",
       " 'evolution',\n",
       " 'machines',\n",
       " 'precision',\n",
       " 'mass',\n",
       " 'productivity',\n",
       " 'quality',\n",
       " 'control',\n",
       " 'time',\n",
       " 'efficiencies',\n",
       " 'factors',\n",
       " 'made',\n",
       " 'choice',\n",
       " 'A',\n",
       " 'choice',\n",
       " 'humans',\n",
       " 'This',\n",
       " 'led',\n",
       " 'fear',\n",
       " 'fear',\n",
       " 'not-so-distant',\n",
       " 'future',\n",
       " 'future',\n",
       " 'machines',\n",
       " 'evolved',\n",
       " 'they',\n",
       " '’',\n",
       " 'll',\n",
       " 'human',\n",
       " 'employee',\n",
       " 'leading',\n",
       " 'unemployment',\n",
       " 'With',\n",
       " 'population',\n",
       " 'increase',\n",
       " 'world',\n",
       " 'tech',\n",
       " 'threat',\n",
       " 'labor',\n",
       " 'market',\n",
       " 'Then',\n",
       " 'again…',\n",
       " 'true',\n",
       " 'Does',\n",
       " 'oppose',\n",
       " 'threat',\n",
       " 'Will',\n",
       " 'adapting',\n",
       " 'technology',\n",
       " 'make',\n",
       " 'millions',\n",
       " 'people',\n",
       " 'lose',\n",
       " 'jobs',\n",
       " 'Will',\n",
       " 'lead',\n",
       " 'mass',\n",
       " 'unemployment',\n",
       " 'Will',\n",
       " 'machines',\n",
       " 'surpass',\n",
       " 'humans',\n",
       " 'Will',\n",
       " 'creation',\n",
       " 'creator',\n",
       " 'No',\n",
       " 'matter',\n",
       " 'fearful',\n",
       " 'future',\n",
       " 'reality',\n",
       " 'scary',\n",
       " 'Truth',\n",
       " 'present',\n",
       " 'reality',\n",
       " 'key',\n",
       " 'holds',\n",
       " 'power',\n",
       " 'unlock',\n",
       " 'level',\n",
       " 'human',\n",
       " 'evolution',\n",
       " 'Technology',\n",
       " 'growing',\n",
       " 'There',\n",
       " 'time',\n",
       " 'technology',\n",
       " 'idea',\n",
       " 'today',\n",
       " 'idea',\n",
       " 'implemented',\n",
       " 'it',\n",
       " '’',\n",
       " 's',\n",
       " 'working',\n",
       " 'carried',\n",
       " 'Nobody',\n",
       " 'stop',\n",
       " 'advancement',\n",
       " 'growth',\n",
       " 'Artificial',\n",
       " 'Intelligence',\n",
       " 'it',\n",
       " '’',\n",
       " 's',\n",
       " 'wave',\n",
       " 'flowing',\n",
       " 'present',\n",
       " 'generation',\n",
       " 'generations',\n",
       " 'learn',\n",
       " 'learn',\n",
       " 'swim',\n",
       " 'flow',\n",
       " 'avoid',\n",
       " 'drowning',\n",
       " 'Many',\n",
       " 'jobs',\n",
       " 'replaced',\n",
       " 'machines',\n",
       " 'evolves',\n",
       " 'it',\n",
       " '’',\n",
       " 'll',\n",
       " 'challenging',\n",
       " 'human',\n",
       " 'minds',\n",
       " 'skills',\n",
       " 'With',\n",
       " 'present',\n",
       " 'COVID',\n",
       " '19',\n",
       " 'situation',\n",
       " 'contactless',\n",
       " 'cashiers',\n",
       " 'robots',\n",
       " 'delivering',\n",
       " 'packages',\n",
       " 'usual',\n",
       " 'routine',\n",
       " 'tasks',\n",
       " 'The',\n",
       " 'jobs',\n",
       " 'Secretaries',\n",
       " 'Schedulers',\n",
       " 'book-keeper',\n",
       " 'risk',\n",
       " 'Manufacturing',\n",
       " 'units',\n",
       " 'agriculture',\n",
       " 'food',\n",
       " 'services',\n",
       " 'retail',\n",
       " 'transportation',\n",
       " '&',\n",
       " 'logistic',\n",
       " 'hospitality',\n",
       " 'part',\n",
       " 'AI-affected',\n",
       " 'automation',\n",
       " 'At',\n",
       " 'estimation',\n",
       " '20',\n",
       " 'million',\n",
       " 'jobs',\n",
       " 'including',\n",
       " 'manufacturing',\n",
       " 'lost',\n",
       " 'robots',\n",
       " 'As',\n",
       " 'robotics',\n",
       " '3D',\n",
       " 'printing',\n",
       " 'genetics',\n",
       " 'make',\n",
       " 'architects',\n",
       " 'medical',\n",
       " 'docs',\n",
       " 'music',\n",
       " 'composers',\n",
       " 'feel',\n",
       " 'threatened',\n",
       " 'technology',\n",
       " 'Making',\n",
       " 'question',\n",
       " 'edge',\n",
       " 'brain',\n",
       " 'jobs',\n",
       " 'Now',\n",
       " 'terrifying',\n",
       " 'However',\n",
       " 'machines',\n",
       " 'replacing',\n",
       " 'jobs',\n",
       " 'they',\n",
       " '’',\n",
       " 'll',\n",
       " 'creating',\n",
       " 'jobs',\n",
       " 'With',\n",
       " 'economic',\n",
       " 'growth',\n",
       " 'innovation',\n",
       " 'investment',\n",
       " '133',\n",
       " 'million',\n",
       " 'jobs',\n",
       " 'generated',\n",
       " 'These',\n",
       " 'newly',\n",
       " 'enhanced',\n",
       " 'jobs',\n",
       " 'create',\n",
       " 'benefits',\n",
       " 'amplify',\n",
       " 'one',\n",
       " '’',\n",
       " 's',\n",
       " 'creativity',\n",
       " 'strategy',\n",
       " 'entrepreneurial',\n",
       " 'skills',\n",
       " 'So',\n",
       " 'catch',\n",
       " 'Well',\n",
       " 'it',\n",
       " '’',\n",
       " 's',\n",
       " 'skills',\n",
       " 'Even',\n",
       " 'creating',\n",
       " '3',\n",
       " 'times',\n",
       " 'jobs',\n",
       " 'destroying',\n",
       " 'it',\n",
       " '’',\n",
       " 's',\n",
       " 'skills',\n",
       " 'count',\n",
       " 'surged',\n",
       " 'job',\n",
       " 'opportunities',\n",
       " 'opportunities',\n",
       " 'Senior',\n",
       " 'Data',\n",
       " 'Scientist',\n",
       " 'Mobile',\n",
       " 'Application',\n",
       " 'Developer',\n",
       " 'SEO',\n",
       " 'specialist',\n",
       " 'These',\n",
       " 'jobs',\n",
       " 'heard',\n",
       " 'it',\n",
       " '’',\n",
       " 's',\n",
       " 'born',\n",
       " 'jobs',\n",
       " 'qualification',\n",
       " 'high-level',\n",
       " 'skills',\n",
       " 'acquire',\n",
       " 'skills',\n",
       " 'expensive',\n",
       " 'time-consuming',\n",
       " 'task',\n",
       " 'The',\n",
       " 'future',\n",
       " 'generation',\n",
       " 'cope',\n",
       " 'real',\n",
       " 'struggle',\n",
       " 'faced',\n",
       " 'present',\n",
       " 'generations',\n",
       " 'It',\n",
       " '’',\n",
       " 's',\n",
       " 'vulnerability',\n",
       " 'skill',\n",
       " 'gap',\n",
       " 'unemployment',\n",
       " 'youths',\n",
       " 'crushed',\n",
       " 'Therefore',\n",
       " 'advancement',\n",
       " 'inevitable',\n",
       " 'remains',\n",
       " 'choice',\n",
       " 'adapt',\n",
       " 'learn',\n",
       " 'equip',\n",
       " 'grow',\n",
       " 'The',\n",
       " 'companies',\n",
       " 'work',\n",
       " 'build',\n",
       " 'AI-ready',\n",
       " 'workplace',\n",
       " 'They',\n",
       " 'collaborate',\n",
       " 'government',\n",
       " 'educators',\n",
       " 'non-profit',\n",
       " 'organizations',\n",
       " 'work',\n",
       " 'bring',\n",
       " 'policies',\n",
       " 'understand',\n",
       " 'technologies',\n",
       " '’',\n",
       " 'impacts',\n",
       " 'faster',\n",
       " 'providing',\n",
       " 'employees',\n",
       " 'security',\n",
       " 'The',\n",
       " 'economic',\n",
       " 'business',\n",
       " 'planning',\n",
       " 'made',\n",
       " 'considerable',\n",
       " 'minimizing',\n",
       " 'impact',\n",
       " 'local',\n",
       " 'jobs',\n",
       " 'properly',\n",
       " 'maximizing',\n",
       " 'opportunities',\n",
       " 'The',\n",
       " 'employees',\n",
       " 'provided',\n",
       " 'proper',\n",
       " 'tools',\n",
       " 'carry',\n",
       " 'opportunities',\n",
       " 'acquiring',\n",
       " 'AI-based',\n",
       " 'skills',\n",
       " 'day-to-day',\n",
       " 'work',\n",
       " 'New',\n",
       " 'skills',\n",
       " 'identified',\n",
       " 'implemented',\n",
       " 'upskilling',\n",
       " 'continual',\n",
       " 'learning',\n",
       " 'initiatives',\n",
       " 'Employees',\n",
       " 'maximize',\n",
       " 'Robotic',\n",
       " 'Quotient',\n",
       " 'learn',\n",
       " 'core',\n",
       " 'skills',\n",
       " 'They',\n",
       " '’',\n",
       " 'll',\n",
       " 'adapt',\n",
       " 'working',\n",
       " 'models',\n",
       " 'understand',\n",
       " 'roles',\n",
       " 'coming',\n",
       " 'future',\n",
       " 'Howsoever',\n",
       " 'it',\n",
       " '’',\n",
       " 's',\n",
       " 'totally',\n",
       " 'control',\n",
       " 'proves',\n",
       " 'choice',\n",
       " 'limitations',\n",
       " 'present',\n",
       " 'First',\n",
       " 'it',\n",
       " '’',\n",
       " 's',\n",
       " 'expensive',\n",
       " 'manufacturing',\n",
       " 'machines',\n",
       " 'bulk',\n",
       " 'good',\n",
       " 'environment',\n",
       " 'Machines',\n",
       " 'high',\n",
       " 'maintenance',\n",
       " 'human',\n",
       " 'labor',\n",
       " 'cheaper',\n",
       " 'considered',\n",
       " 'machines',\n",
       " 'Underdeveloped',\n",
       " 'countries',\n",
       " 'find',\n",
       " 'hard',\n",
       " 'equip',\n",
       " 'people',\n",
       " 'upskilling',\n",
       " 'reskilling',\n",
       " 'required',\n",
       " 'workplace',\n",
       " 'play',\n",
       " 'role',\n",
       " 'countries',\n",
       " 'years',\n",
       " 'risky',\n",
       " 'unethical',\n",
       " 'it',\n",
       " '’',\n",
       " 's',\n",
       " 'hard',\n",
       " 'figure',\n",
       " 'held',\n",
       " 'responsible',\n",
       " 'cases',\n",
       " 'wrong',\n",
       " 'No',\n",
       " 'matter',\n",
       " 'advanced',\n",
       " 'skills',\n",
       " 'humans',\n",
       " 'upper',\n",
       " 'hand',\n",
       " 'soft',\n",
       " 'skills',\n",
       " 'Skills',\n",
       " 'teamwork',\n",
       " 'communication',\n",
       " 'creativity',\n",
       " 'critical',\n",
       " 'thinking',\n",
       " 'hasn',\n",
       " '’',\n",
       " 't',\n",
       " 'beat',\n",
       " 'creativity',\n",
       " 'leadership',\n",
       " 'emotional',\n",
       " 'intelligence',\n",
       " 'increased',\n",
       " 'Although',\n",
       " 'machines',\n",
       " 'coming',\n",
       " 'humans',\n",
       " 'causing',\n",
       " 'lack',\n",
       " 'human-to-human',\n",
       " 'interaction',\n",
       " 'humans',\n",
       " 'fade',\n",
       " 'With',\n",
       " 'era',\n",
       " 'good',\n",
       " 'leaders',\n",
       " 'Leaders',\n",
       " 'capable',\n",
       " 'handling',\n",
       " 'machines',\n",
       " 'humans',\n",
       " 'organized',\n",
       " 'manage',\n",
       " 'skilled',\n",
       " 'unskilled',\n",
       " 'employees',\n",
       " 'providing',\n",
       " 'unskilled',\n",
       " 'trainees',\n",
       " 'proper',\n",
       " 'training',\n",
       " 'Leaders',\n",
       " 'hold',\n",
       " 'profound',\n",
       " 'soft',\n",
       " 'skills',\n",
       " 'encourage',\n",
       " 'teamwork',\n",
       " 'working',\n",
       " 'machines',\n",
       " 'The',\n",
       " 'patient',\n",
       " 'calm',\n",
       " 'optimized',\n",
       " 'In',\n",
       " 'conclusion',\n",
       " 'machines',\n",
       " 'challenging',\n",
       " 'there',\n",
       " '’',\n",
       " 's',\n",
       " 'humans',\n",
       " 'haven',\n",
       " '’',\n",
       " 't',\n",
       " 'overcome',\n",
       " 'Adaptation',\n",
       " 'up-gradation',\n",
       " 'primary',\n",
       " 'factor',\n",
       " 'survival',\n",
       " 'As',\n",
       " 'witness',\n",
       " 'onset',\n",
       " '4th',\n",
       " 'industrial',\n",
       " 'revolution',\n",
       " 'let',\n",
       " '’',\n",
       " 's',\n",
       " 'buckle',\n",
       " 'seats',\n",
       " 'race',\n",
       " 'highway',\n",
       " 'essential',\n",
       " 'fuels',\n",
       " '(',\n",
       " 'skills',\n",
       " ')',\n",
       " 'eliminated',\n",
       " 'After',\n",
       " 'unending',\n",
       " 'race',\n",
       " 'infinity',\n",
       " 'end',\n",
       " 'run',\n",
       " 'fuel',\n",
       " 'Try',\n",
       " 'outdated',\n",
       " 'We',\n",
       " 'provide',\n",
       " 'intelligence',\n",
       " 'accelerate',\n",
       " 'innovation',\n",
       " 'implement',\n",
       " 'technology',\n",
       " 'extraordinary',\n",
       " 'breadth',\n",
       " 'depth',\n",
       " 'global',\n",
       " 'insights',\n",
       " 'big',\n",
       " 'datadata-driven',\n",
       " 'dashboards',\n",
       " 'applications',\n",
       " 'development',\n",
       " 'information',\n",
       " 'management',\n",
       " 'organizations',\n",
       " 'combining',\n",
       " 'unique',\n",
       " 'specialist',\n",
       " 'services',\n",
       " 'high-lvel',\n",
       " 'human',\n",
       " 'expertise',\n",
       " 'Contact',\n",
       " 'us',\n",
       " ':',\n",
       " 'hello',\n",
       " '@',\n",
       " 'blackcoffercom',\n",
       " '©',\n",
       " 'All',\n",
       " 'Right',\n",
       " 'Reserved',\n",
       " 'Blackcoffer',\n",
       " '(',\n",
       " 'OPC',\n",
       " ')',\n",
       " 'Pvt',\n",
       " 'Ltd']"
      ]
     },
     "execution_count": 211,
     "metadata": {},
     "output_type": "execute_result"
    }
   ],
   "source": [
    "final_paragraph=[]\n",
    "for paragraph in modified_paragraphs:\n",
    "    word=nltk.word_tokenize(paragraph)\n",
    "    for single_word in word:\n",
    "        final_paragraph.append(single_word)\n",
    "final_paragraph"
   ]
  },
  {
   "cell_type": "code",
   "execution_count": 212,
   "id": "da9fd159",
   "metadata": {},
   "outputs": [],
   "source": [
    "edited_length=len(final_paragraph)"
   ]
  },
  {
   "cell_type": "code",
   "execution_count": 213,
   "id": "416e91f9",
   "metadata": {},
   "outputs": [
    {
     "name": "stdout",
     "output_type": "stream",
     "text": [
      "positive score is  59\n",
      "negative score is  38\n"
     ]
    }
   ],
   "source": [
    "positive_score=0\n",
    "negative_score=0\n",
    "for paragraph in modified_paragraphs:\n",
    "    words=paragraph.split()\n",
    "    for word in words:\n",
    "        if word in positive_words:\n",
    "            positive_score+=1\n",
    "        elif word in negative_words:\n",
    "            negative_score+=1\n",
    "print('positive score is ',positive_score)\n",
    "print('negative score is ',negative_score)"
   ]
  },
  {
   "cell_type": "code",
   "execution_count": 214,
   "id": "554373c4",
   "metadata": {},
   "outputs": [
    {
     "name": "stdout",
     "output_type": "stream",
     "text": [
      "0.21649484312891915\n"
     ]
    }
   ],
   "source": [
    "polarity_score=(positive_score-negative_score)/((positive_score+negative_score)+0.000001)\n",
    "print(polarity_score)"
   ]
  },
  {
   "cell_type": "code",
   "execution_count": 215,
   "id": "e1fb0bef",
   "metadata": {},
   "outputs": [
    {
     "name": "stdout",
     "output_type": "stream",
     "text": [
      "0.13090418335910367\n"
     ]
    }
   ],
   "source": [
    "subjectivity_score=(positive_score+negative_score)/(len(final_paragraph)+0.000001)\n",
    "print(subjectivity_score)"
   ]
  },
  {
   "cell_type": "code",
   "execution_count": 216,
   "id": "fc4283b0",
   "metadata": {},
   "outputs": [],
   "source": [
    "heading=soup.h1.text"
   ]
  },
  {
   "cell_type": "code",
   "execution_count": 237,
   "id": "23844528",
   "metadata": {},
   "outputs": [
    {
     "name": "stdout",
     "output_type": "stream",
     "text": [
      "Human minds a fascination in itself carrying the potential of tinkering nature with the pixie dust intelligence creating and solving the mysteries and wonders with anything but admiration However no matter how captivating a human mind can be it could sometimes be appalled It could be the hunger or maybe the desire to want more to go beyond and unravel the limitations or maybe something like pure greed Humans have never stopped and always keep evolving when it comes to intelligence and this is what makes them the supreme\n",
      "525\n",
      "Intelligence calls out for supremacy and so what if there was to evolve something that opposed a challenge to the very human minds to their capabilities while making them question their own importance among themselves Artificial Intelligence came as a revolution havoc when it first came to the light The concept of making machines does work on their own like granting machines –The Intelligence\n",
      "395\n",
      "The idea of making machines work like humans came back in the 19s Back then people didn’t believe in such a thing as making a non-living thing work think and carry tasks on its own not to mention to actually surpass humans themselves in those skills The facts are it did By 1997 The greatest chess player Garry Kasparov was defeated in a chess game by a machine and this is where exactly a top skilled human lost to a mere machine created by another who by himself could’ve never defeated him It was a rule of power of betterment of skills and the granted supremacy Were AI and Machines just tools Equipment  Something that helped an unskilled person with his mind and intelligence creates something that could do the skilled work for him with perfection and precision Well initially it was however as time passed as humans got drawn to the puzzle of AI a lot changed Human research went deeper and deeper and as a result the machines evolved with it\n",
      "950\n",
      "At present AI & Machines is a growing field As it develops and improves it has become a part of the industrial revolution In industries most of the laborious work that was once taken care of by humans was now replaced by machines Naturally with the evolution in machines its precision mass productivity quality control time efficiencies and all the other factors made it a better choice A choice over humans\n",
      "407\n",
      "This led to fear a fear of a not-so-distant future a future where maybe machines will be so evolved that they’ll take over the need of a human employee leading to unemployment With the population increase around the world it became the new tech threat for the labor market Then again… how true is it Does AI really oppose a threat Will adapting to technology make millions of people lose their jobs Will it lead to mass unemployment Will the machines really surpass humans Will the creation take over the creator\n",
      "512\n",
      "No matter how fearful the future with AI may seem in reality it is not that scary Truth is AI is the present reality it is the key that holds the power to unlock a whole next level of human evolution Technology is growing There was a time where technology was just an idea but today that idea has been implemented it’s working and is carried out Nobody could stop the advancement and growth of Artificial Intelligence it’s a wave that is already flowing and we as the present generation and the generations to come to have to learn to learn to swim in this flow and avoid drowning\n",
      "580\n",
      "Many jobs will be replaced by machines as AI evolves it’ll keep challenging human minds and their skills With the present COVID 19 situation contactless cashiers to robots delivering packages have already taken over the usual routine tasks The jobs of Secretaries Schedulers and book-keeper are at risk too Manufacturing units agriculture food services retail transportation & logistic and hospitality are all a part of the AI-affected automation At an estimation it is said that around 20 million jobs especially including manufacturing will be lost to robots As AI robotics 3D printing and genetics make their way in even the architects medical docs and music composers feel threatened by technology Making us question that will AI even edge us out of our brain jobs too Now that can be terrifying\n",
      "799\n",
      "However as much as machines will be replacing few jobs they’ll also be creating new jobs  With the economic growth innovation and investment around 133 million jobs are said to be generated These newly enhanced jobs are to create benefits and amplify one’s creativity strategy and entrepreneurial skills So what is the catch\n",
      "324\n",
      "Well it’s the skills Even though AI is creating 3 times more jobs than it is destroying it’s the skills that count AI surged in new job opportunities opportunities like Senior Data Scientist Mobile Application Developer and SEO specialist These jobs were once never heard of but now with AI it’s born however to do these jobs or for its qualification one needs high-level skills and to acquire those skills can be an expensive and time-consuming task The future generation might be able to cope up with it but the real struggle is to be faced by the present two generations It’s the vulnerability between the skill gap and unemployment and the youths are the ones to be crushed the most\n",
      "686\n",
      "Therefore as the advancement of AI becomes inevitable there remains no choice but to adapt learn equip ourselves and grow with it The companies have to work together to build an AI-ready workplace They should collaborate with the government educators and non-profit organizations and work together to bring out policies that could help understand the technologies’ impacts faster while also providing the employees some security The economic and business planning should be made considerable for minimizing the impact on local jobs and properly maximizing the opportunities\n",
      "573\n",
      "The employees should be provided with proper tools to carry along with the new opportunities while acquiring AI-based skills for their day-to-day work New skills should be identified and implemented for the upskilling and continual learning initiatives Employees will have to maximize their Robotic Quotient and learn core skills They’ll have to adapt to new working models and understand their roles in the coming future \n",
      "422\n",
      "Howsoever it’s not like AI will totally take over control even though AI proves to be a better choice it still has its limitations at present First it’s expensive secondly manufacturing machines in bulk is not good for the environment Machines are also very high maintenance therefore human labor will often come cheaper and so will be considered over machines Underdeveloped countries will find it hard to equip their people with the upskilling and reskilling required for AI workplace and so for AI to play a role in those countries might take years AI can also be risky and unethical as it’s hard to figure out who to be held responsible for in cases where an AI went wrong\n",
      "676\n",
      "No matter how advanced AI gets there are some skills where humans will always have an upper hand ie soft skills Skills like teamwork communication creativity and critical thinking are something that AI hasn’t been able to beat us up to yet and so the value of creativity leadership and emotional intelligence has increased Although with machines coming in between humans causing the lack of human-to-human interaction the humans seem to fade away a little\n",
      "455\n",
      "With this era comes the need for good leaders Leaders who are capable of handling both machines and humans together the ones who are organized enough to manage the skilled and the unskilled employees while providing the unskilled trainees with proper training Leaders who hold profound soft skills and encourage teamwork while working along with machines The ones who are patient calm and optimized  \n",
      "400\n",
      "In conclusion yes AI and machines are going to be very challenging but there’s nothing humans haven’t overcome Adaptation and up-gradation are going to be the primary factor for survival As we witness the onset of the 4th industrial revolution let’s buckle up our seats and race along the highway with the essential fuels (skills) so as to not let ourselves eliminated After all this is an unending race with infinity as the end all we could do is try not to run out of fuel Try not to be outdated \n",
      "498\n",
      "\n",
      "0\n",
      "We provide intelligence accelerate innovation and implement technology with extraordinary breadth and depth global insights into the big datadata-driven dashboards applications development and information management for organizations through combining unique specialist services and high-lvel human expertise\n",
      "308\n",
      "Contact us: hello@blackcoffercom\n",
      "32\n",
      "© All Right Reserved Blackcoffer(OPC) Pvt Ltd\n",
      "45\n"
     ]
    }
   ],
   "source": [
    "for para in paragraphs:\n",
    "    para=str(para)\n",
    "    print(para)\n",
    "    print(len(para))"
   ]
  },
  {
   "cell_type": "code",
   "execution_count": 217,
   "id": "02efcf09",
   "metadata": {},
   "outputs": [],
   "source": [
    "results = soup.findAll(attrs={'class':'tdb-block-inner td-fix-index'})\n",
    "word_length=0\n",
    "list_of_words=[]\n",
    "headings=str(heading).split()\n",
    "for word in headings:\n",
    "    list_of_words.append(word)\n",
    "for result in results:\n",
    "    paras = result.find_all('p')\n",
    "    for para in paras:\n",
    "        x=para.text.split()\n",
    "        for i in x:\n",
    "            word_length+=len(i)\n",
    "            list_of_words.append(i)\n",
    "        #print(len(para.text))\n",
    "        #print(para.text.split())\n",
    "no_of_words=len(list_of_words)"
   ]
  },
  {
   "cell_type": "code",
   "execution_count": 218,
   "id": "0a860020",
   "metadata": {},
   "outputs": [],
   "source": [
    "results = soup.findAll(attrs={'class':'tdb-block-inner td-fix-index'})\n",
    "list_of_sentences=[]\n",
    "list_of_sentences.append(heading)\n",
    "for result in results:\n",
    "    paras = result.find_all('p')\n",
    "    for para in paras:\n",
    "        x=para.text.split('.')\n",
    "        for i in x:\n",
    "            list_of_sentences.append(i)\n",
    "no_of_sentences=len(list_of_sentences)"
   ]
  },
  {
   "cell_type": "code",
   "execution_count": 219,
   "id": "022c07a7",
   "metadata": {},
   "outputs": [],
   "source": [
    "average_sentence_length=no_of_words/no_of_sentences"
   ]
  },
  {
   "cell_type": "code",
   "execution_count": 222,
   "id": "9af56d10",
   "metadata": {},
   "outputs": [
    {
     "data": {
      "text/plain": [
       "9.0"
      ]
     },
     "execution_count": 222,
     "metadata": {},
     "output_type": "execute_result"
    }
   ],
   "source": [
    "average_sentence_length"
   ]
  },
  {
   "cell_type": "code",
   "execution_count": 223,
   "id": "c432c557",
   "metadata": {},
   "outputs": [],
   "source": [
    "#pip install pyphen"
   ]
  },
  {
   "cell_type": "code",
   "execution_count": 224,
   "id": "86d59f3e",
   "metadata": {},
   "outputs": [
    {
     "name": "stdout",
     "output_type": "stream",
     "text": [
      "1\n",
      "13\n"
     ]
    }
   ],
   "source": [
    "import pyphen\n",
    "\n",
    "def count_syllables(word):\n",
    "    dic = pyphen.Pyphen(lang='en')\n",
    "    syllables = dic.inserted(word).count('-') + 1\n",
    "    return syllables\n",
    "complex_word_count=0\n",
    "sum_of_syllable_count=0\n",
    "for word in list_of_words:\n",
    "    syllable_count = count_syllables(word)\n",
    "    sum_of_syllable_count+=syllable_count\n",
    "    if syllable_count>2:\n",
    "        complex_word_count+=1\n",
    "print(complex_word_count)\n",
    "print(sum_of_syllable_count)"
   ]
  },
  {
   "cell_type": "code",
   "execution_count": 225,
   "id": "9b1c0298",
   "metadata": {},
   "outputs": [],
   "source": [
    "percentage_of_complex_words=complex_word_count/no_of_words"
   ]
  },
  {
   "cell_type": "code",
   "execution_count": 226,
   "id": "770bcdd8",
   "metadata": {},
   "outputs": [
    {
     "data": {
      "text/plain": [
       "0.1111111111111111"
      ]
     },
     "execution_count": 226,
     "metadata": {},
     "output_type": "execute_result"
    }
   ],
   "source": [
    "percentage_of_complex_words"
   ]
  },
  {
   "cell_type": "code",
   "execution_count": 227,
   "id": "0ea23054",
   "metadata": {},
   "outputs": [
    {
     "name": "stdout",
     "output_type": "stream",
     "text": [
      "3.6444444444444444\n"
     ]
    }
   ],
   "source": [
    "fog_index = 0.4 * (average_sentence_length + percentage_of_complex_words)\n",
    "print(fog_index)"
   ]
  },
  {
   "cell_type": "code",
   "execution_count": 228,
   "id": "6641c9c5",
   "metadata": {},
   "outputs": [
    {
     "name": "stdout",
     "output_type": "stream",
     "text": [
      "9.0\n"
     ]
    }
   ],
   "source": [
    "average_of_words_per_sentence=no_of_words/no_of_sentences\n",
    "print(average_of_words_per_sentence)"
   ]
  },
  {
   "cell_type": "code",
   "execution_count": 229,
   "id": "2382b097",
   "metadata": {},
   "outputs": [
    {
     "name": "stdout",
     "output_type": "stream",
     "text": [
      "-732\n"
     ]
    }
   ],
   "source": [
    "#edited_length means after removing the special characters abd stoping words\n",
    "word_count=no_of_words-edited_length\n",
    "print(word_count)"
   ]
  },
  {
   "cell_type": "code",
   "execution_count": 230,
   "id": "7fcf7330",
   "metadata": {},
   "outputs": [
    {
     "name": "stdout",
     "output_type": "stream",
     "text": [
      "1.4444444444444444\n"
     ]
    }
   ],
   "source": [
    "sylable_count_per_word=sum_of_syllable_count/no_of_words\n",
    "print(sylable_count_per_word)"
   ]
  },
  {
   "cell_type": "code",
   "execution_count": 231,
   "id": "fe4e7e3d",
   "metadata": {},
   "outputs": [],
   "source": [
    "import spacy"
   ]
  },
  {
   "cell_type": "code",
   "execution_count": 232,
   "id": "5d709724",
   "metadata": {},
   "outputs": [
    {
     "data": {
      "text/plain": [
       "'def count_personal_pronouns(text):\\n    nlp = spacy.load(\\'en_core_web_sm\\')\\n    doc = nlp(text)\\n    pronoun_count = sum(token.pos_ == \"PRON\" and token.dep_ == \"nsubj\" for token in doc)\\n    return pronoun_count\\npronoun_count=0\\nfor sentence in list_of_sentences:\\n    count = count_personal_pronouns(sentence)\\n    pronoun_count+=count\\nprint(pronoun_count)   Output: 4'"
      ]
     },
     "execution_count": 232,
     "metadata": {},
     "output_type": "execute_result"
    }
   ],
   "source": [
    "'''def count_personal_pronouns(text):\n",
    "    nlp = spacy.load('en_core_web_sm')\n",
    "    doc = nlp(text)\n",
    "    pronoun_count = sum(token.pos_ == \"PRON\" and token.dep_ == \"nsubj\" for token in doc)\n",
    "    return pronoun_count\n",
    "pronoun_count=0\n",
    "for sentence in list_of_sentences:\n",
    "    count = count_personal_pronouns(sentence)\n",
    "    pronoun_count+=count\n",
    "print(pronoun_count)   Output: 4'''"
   ]
  },
  {
   "cell_type": "code",
   "execution_count": 233,
   "id": "08484cc7",
   "metadata": {},
   "outputs": [
    {
     "name": "stdout",
     "output_type": "stream",
     "text": [
      "0\n"
     ]
    }
   ],
   "source": [
    "import re\n",
    "def count_personal_pronouns(text):\n",
    "    pronoun_pattern = r\"\\b(I|me|my|mine|we|us|our|ours|you|your|yours|he|him|his|she|her|hers|it|its|they|them|their|theirs|myself|ourselves|yourself|yourselves|himself|herself|itself|themselves)\\b\"\n",
    "    matches = re.findall(pronoun_pattern, text, flags=re.IGNORECASE)\n",
    "    return len(matches)\n",
    "pronoun_count=0\n",
    "for sentence in list_of_sentences:\n",
    "    count = count_personal_pronouns(sentence)\n",
    "    pronoun_count+=count\n",
    "print(pronoun_count)  # Output: 4\n"
   ]
  },
  {
   "cell_type": "code",
   "execution_count": 234,
   "id": "30b914d2",
   "metadata": {},
   "outputs": [
    {
     "name": "stdout",
     "output_type": "stream",
     "text": [
      "0.0\n"
     ]
    }
   ],
   "source": [
    "average_word_length=word_length/no_of_words\n",
    "print(average_word_length)"
   ]
  },
  {
   "cell_type": "code",
   "execution_count": 113,
   "id": "30075f87",
   "metadata": {
    "scrolled": true
   },
   "outputs": [
    {
     "name": "stdout",
     "output_type": "stream",
     "text": [
      "Requirement already satisfied: openpyxl in c:\\users\\navee\\anaconda3\\lib\\site-packages (3.1.2)\n",
      "Requirement already satisfied: et-xmlfile in c:\\users\\navee\\anaconda3\\lib\\site-packages (from openpyxl) (1.1.0)\n",
      "Note: you may need to restart the kernel to use updated packages.\n"
     ]
    },
    {
     "name": "stderr",
     "output_type": "stream",
     "text": [
      "WARNING: Ignoring invalid distribution -rotobuf (c:\\users\\navee\\anaconda3\\lib\\site-packages)\n",
      "WARNING: Ignoring invalid distribution -rotobuf (c:\\users\\navee\\anaconda3\\lib\\site-packages)\n",
      "WARNING: Ignoring invalid distribution -rotobuf (c:\\users\\navee\\anaconda3\\lib\\site-packages)\n",
      "WARNING: Ignoring invalid distribution -rotobuf (c:\\users\\navee\\anaconda3\\lib\\site-packages)\n",
      "WARNING: Ignoring invalid distribution -rotobuf (c:\\users\\navee\\anaconda3\\lib\\site-packages)\n",
      "WARNING: Ignoring invalid distribution -rotobuf (c:\\users\\navee\\anaconda3\\lib\\site-packages)\n"
     ]
    }
   ],
   "source": [
    "pip install openpyxl"
   ]
  },
  {
   "cell_type": "code",
   "execution_count": 114,
   "id": "e9dd1b43",
   "metadata": {},
   "outputs": [
    {
     "ename": "PermissionError",
     "evalue": "[Errno 13] Permission denied: 'C:/Users/navee/Downloads/Output Data Structure.xlsx'",
     "output_type": "error",
     "traceback": [
      "\u001b[1;31m---------------------------------------------------------------------------\u001b[0m",
      "\u001b[1;31mPermissionError\u001b[0m                           Traceback (most recent call last)",
      "\u001b[1;32m~\\AppData\\Local\\Temp\\ipykernel_11552\\4277418269.py\u001b[0m in \u001b[0;36m<module>\u001b[1;34m\u001b[0m\n\u001b[0;32m     13\u001b[0m \u001b[0mnew_data\u001b[0m \u001b[1;33m=\u001b[0m \u001b[1;34m'New Value'\u001b[0m\u001b[1;33m\u001b[0m\u001b[1;33m\u001b[0m\u001b[0m\n\u001b[0;32m     14\u001b[0m \u001b[1;33m\u001b[0m\u001b[0m\n\u001b[1;32m---> 15\u001b[1;33m \u001b[0madd_data_to_cell\u001b[0m\u001b[1;33m(\u001b[0m\u001b[0mfile_path\u001b[0m\u001b[1;33m,\u001b[0m \u001b[0msheet_name\u001b[0m\u001b[1;33m,\u001b[0m \u001b[0mrow_index\u001b[0m\u001b[1;33m,\u001b[0m \u001b[0mcolumn_index\u001b[0m\u001b[1;33m,\u001b[0m \u001b[0mnew_data\u001b[0m\u001b[1;33m)\u001b[0m\u001b[1;33m\u001b[0m\u001b[1;33m\u001b[0m\u001b[0m\n\u001b[0m",
      "\u001b[1;32m~\\AppData\\Local\\Temp\\ipykernel_11552\\4277418269.py\u001b[0m in \u001b[0;36madd_data_to_cell\u001b[1;34m(file_path, sheet_name, row_index, column_index, new_data)\u001b[0m\n\u001b[0;32m      4\u001b[0m     \u001b[0msheet\u001b[0m \u001b[1;33m=\u001b[0m \u001b[0mworkbook\u001b[0m\u001b[1;33m[\u001b[0m\u001b[0msheet_name\u001b[0m\u001b[1;33m]\u001b[0m\u001b[1;33m\u001b[0m\u001b[1;33m\u001b[0m\u001b[0m\n\u001b[0;32m      5\u001b[0m     \u001b[0msheet\u001b[0m\u001b[1;33m.\u001b[0m\u001b[0mcell\u001b[0m\u001b[1;33m(\u001b[0m\u001b[0mrow\u001b[0m\u001b[1;33m=\u001b[0m\u001b[0mrow_index\u001b[0m\u001b[1;33m,\u001b[0m \u001b[0mcolumn\u001b[0m\u001b[1;33m=\u001b[0m\u001b[0mcolumn_index\u001b[0m\u001b[1;33m)\u001b[0m\u001b[1;33m.\u001b[0m\u001b[0mvalue\u001b[0m \u001b[1;33m=\u001b[0m \u001b[0mnew_data\u001b[0m\u001b[1;33m\u001b[0m\u001b[1;33m\u001b[0m\u001b[0m\n\u001b[1;32m----> 6\u001b[1;33m     \u001b[0mworkbook\u001b[0m\u001b[1;33m.\u001b[0m\u001b[0msave\u001b[0m\u001b[1;33m(\u001b[0m\u001b[0mfile_path\u001b[0m\u001b[1;33m)\u001b[0m\u001b[1;33m\u001b[0m\u001b[1;33m\u001b[0m\u001b[0m\n\u001b[0m\u001b[0;32m      7\u001b[0m \u001b[1;33m\u001b[0m\u001b[0m\n\u001b[0;32m      8\u001b[0m \u001b[1;31m# Example usage\u001b[0m\u001b[1;33m\u001b[0m\u001b[1;33m\u001b[0m\u001b[0m\n",
      "\u001b[1;32m~\\anaconda3\\lib\\site-packages\\openpyxl\\workbook\\workbook.py\u001b[0m in \u001b[0;36msave\u001b[1;34m(self, filename)\u001b[0m\n\u001b[0;32m    384\u001b[0m         \u001b[1;32mif\u001b[0m \u001b[0mself\u001b[0m\u001b[1;33m.\u001b[0m\u001b[0mwrite_only\u001b[0m \u001b[1;32mand\u001b[0m \u001b[1;32mnot\u001b[0m \u001b[0mself\u001b[0m\u001b[1;33m.\u001b[0m\u001b[0mworksheets\u001b[0m\u001b[1;33m:\u001b[0m\u001b[1;33m\u001b[0m\u001b[1;33m\u001b[0m\u001b[0m\n\u001b[0;32m    385\u001b[0m             \u001b[0mself\u001b[0m\u001b[1;33m.\u001b[0m\u001b[0mcreate_sheet\u001b[0m\u001b[1;33m(\u001b[0m\u001b[1;33m)\u001b[0m\u001b[1;33m\u001b[0m\u001b[1;33m\u001b[0m\u001b[0m\n\u001b[1;32m--> 386\u001b[1;33m         \u001b[0msave_workbook\u001b[0m\u001b[1;33m(\u001b[0m\u001b[0mself\u001b[0m\u001b[1;33m,\u001b[0m \u001b[0mfilename\u001b[0m\u001b[1;33m)\u001b[0m\u001b[1;33m\u001b[0m\u001b[1;33m\u001b[0m\u001b[0m\n\u001b[0m\u001b[0;32m    387\u001b[0m \u001b[1;33m\u001b[0m\u001b[0m\n\u001b[0;32m    388\u001b[0m \u001b[1;33m\u001b[0m\u001b[0m\n",
      "\u001b[1;32m~\\anaconda3\\lib\\site-packages\\openpyxl\\writer\\excel.py\u001b[0m in \u001b[0;36msave_workbook\u001b[1;34m(workbook, filename)\u001b[0m\n\u001b[0;32m    289\u001b[0m \u001b[1;33m\u001b[0m\u001b[0m\n\u001b[0;32m    290\u001b[0m     \"\"\"\n\u001b[1;32m--> 291\u001b[1;33m     \u001b[0marchive\u001b[0m \u001b[1;33m=\u001b[0m \u001b[0mZipFile\u001b[0m\u001b[1;33m(\u001b[0m\u001b[0mfilename\u001b[0m\u001b[1;33m,\u001b[0m \u001b[1;34m'w'\u001b[0m\u001b[1;33m,\u001b[0m \u001b[0mZIP_DEFLATED\u001b[0m\u001b[1;33m,\u001b[0m \u001b[0mallowZip64\u001b[0m\u001b[1;33m=\u001b[0m\u001b[1;32mTrue\u001b[0m\u001b[1;33m)\u001b[0m\u001b[1;33m\u001b[0m\u001b[1;33m\u001b[0m\u001b[0m\n\u001b[0m\u001b[0;32m    292\u001b[0m     \u001b[0mworkbook\u001b[0m\u001b[1;33m.\u001b[0m\u001b[0mproperties\u001b[0m\u001b[1;33m.\u001b[0m\u001b[0mmodified\u001b[0m \u001b[1;33m=\u001b[0m \u001b[0mdatetime\u001b[0m\u001b[1;33m.\u001b[0m\u001b[0mdatetime\u001b[0m\u001b[1;33m.\u001b[0m\u001b[0mutcnow\u001b[0m\u001b[1;33m(\u001b[0m\u001b[1;33m)\u001b[0m\u001b[1;33m\u001b[0m\u001b[1;33m\u001b[0m\u001b[0m\n\u001b[0;32m    293\u001b[0m     \u001b[0mwriter\u001b[0m \u001b[1;33m=\u001b[0m \u001b[0mExcelWriter\u001b[0m\u001b[1;33m(\u001b[0m\u001b[0mworkbook\u001b[0m\u001b[1;33m,\u001b[0m \u001b[0marchive\u001b[0m\u001b[1;33m)\u001b[0m\u001b[1;33m\u001b[0m\u001b[1;33m\u001b[0m\u001b[0m\n",
      "\u001b[1;32m~\\anaconda3\\lib\\zipfile.py\u001b[0m in \u001b[0;36m__init__\u001b[1;34m(self, file, mode, compression, allowZip64, compresslevel, strict_timestamps)\u001b[0m\n\u001b[0;32m   1246\u001b[0m             \u001b[1;32mwhile\u001b[0m \u001b[1;32mTrue\u001b[0m\u001b[1;33m:\u001b[0m\u001b[1;33m\u001b[0m\u001b[1;33m\u001b[0m\u001b[0m\n\u001b[0;32m   1247\u001b[0m                 \u001b[1;32mtry\u001b[0m\u001b[1;33m:\u001b[0m\u001b[1;33m\u001b[0m\u001b[1;33m\u001b[0m\u001b[0m\n\u001b[1;32m-> 1248\u001b[1;33m                     \u001b[0mself\u001b[0m\u001b[1;33m.\u001b[0m\u001b[0mfp\u001b[0m \u001b[1;33m=\u001b[0m \u001b[0mio\u001b[0m\u001b[1;33m.\u001b[0m\u001b[0mopen\u001b[0m\u001b[1;33m(\u001b[0m\u001b[0mfile\u001b[0m\u001b[1;33m,\u001b[0m \u001b[0mfilemode\u001b[0m\u001b[1;33m)\u001b[0m\u001b[1;33m\u001b[0m\u001b[1;33m\u001b[0m\u001b[0m\n\u001b[0m\u001b[0;32m   1249\u001b[0m                 \u001b[1;32mexcept\u001b[0m \u001b[0mOSError\u001b[0m\u001b[1;33m:\u001b[0m\u001b[1;33m\u001b[0m\u001b[1;33m\u001b[0m\u001b[0m\n\u001b[0;32m   1250\u001b[0m                     \u001b[1;32mif\u001b[0m \u001b[0mfilemode\u001b[0m \u001b[1;32min\u001b[0m \u001b[0mmodeDict\u001b[0m\u001b[1;33m:\u001b[0m\u001b[1;33m\u001b[0m\u001b[1;33m\u001b[0m\u001b[0m\n",
      "\u001b[1;31mPermissionError\u001b[0m: [Errno 13] Permission denied: 'C:/Users/navee/Downloads/Output Data Structure.xlsx'"
     ]
    }
   ],
   "source": [
    "import openpyxl\n",
    "def add_data_to_cell(file_path, sheet_name, row_index, column_index, new_data):\n",
    "    workbook = openpyxl.load_workbook(file_path)\n",
    "    sheet = workbook[sheet_name]\n",
    "    sheet.cell(row=row_index, column=column_index).value = new_data\n",
    "    workbook.save(file_path)\n",
    "\n",
    "# Example usage\n",
    "file_path = \"C:/Users/navee/Downloads/Output Data Structure.xlsx\"\n",
    "sheet_name = 'Sheet1'\n",
    "row_index = 2  # Row number (one-based)\n",
    "column_index = 3 # Column number (one-based)\n",
    "new_data = 'New Value'\n",
    "\n",
    "add_data_to_cell(file_path, sheet_name, row_index, column_index, new_data)"
   ]
  },
  {
   "cell_type": "code",
   "execution_count": 64,
   "id": "dea8e426",
   "metadata": {},
   "outputs": [],
   "source": [
    "values_to_save=[positive_score,negative_score,polarity_score,subjectivity_score,average_sentence_length,percentage_of_complex_words,fog_index,average_of_words_per_sentence,complex_word_count,word_count,sylable_count_per_word,pronoun_count,average_word_length]"
   ]
  },
  {
   "cell_type": "code",
   "execution_count": 65,
   "id": "8d363b1c",
   "metadata": {},
   "outputs": [
    {
     "data": {
      "text/plain": [
       "13"
      ]
     },
     "execution_count": 65,
     "metadata": {},
     "output_type": "execute_result"
    }
   ],
   "source": [
    "len(values_to_save)"
   ]
  },
  {
   "cell_type": "code",
   "execution_count": null,
   "id": "15e7b1f2",
   "metadata": {},
   "outputs": [],
   "source": []
  }
 ],
 "metadata": {
  "kernelspec": {
   "display_name": "Python 3 (ipykernel)",
   "language": "python",
   "name": "python3"
  },
  "language_info": {
   "codemirror_mode": {
    "name": "ipython",
    "version": 3
   },
   "file_extension": ".py",
   "mimetype": "text/x-python",
   "name": "python",
   "nbconvert_exporter": "python",
   "pygments_lexer": "ipython3",
   "version": "3.9.13"
  }
 },
 "nbformat": 4,
 "nbformat_minor": 5
}
